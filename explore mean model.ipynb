{
 "cells": [
  {
   "cell_type": "code",
   "execution_count": 8,
   "metadata": {
    "ExecuteTime": {
     "end_time": "2020-11-02T12:16:30.722119Z",
     "start_time": "2020-11-02T12:16:26.277907Z"
    }
   },
   "outputs": [
    {
     "data": {
      "text/html": [
       "<div>\n",
       "<style scoped>\n",
       "    .dataframe tbody tr th:only-of-type {\n",
       "        vertical-align: middle;\n",
       "    }\n",
       "\n",
       "    .dataframe tbody tr th {\n",
       "        vertical-align: top;\n",
       "    }\n",
       "\n",
       "    .dataframe thead th {\n",
       "        text-align: right;\n",
       "    }\n",
       "</style>\n",
       "<table border=\"1\" class=\"dataframe\">\n",
       "  <thead>\n",
       "    <tr style=\"text-align: right;\">\n",
       "      <th></th>\n",
       "      <th>Preis</th>\n",
       "      <th>km</th>\n",
       "      <th>kw</th>\n",
       "      <th>ps</th>\n",
       "      <th>Zustand</th>\n",
       "      <th>Fahrzeughalter</th>\n",
       "      <th>Getriebeart</th>\n",
       "      <th>Hubraum</th>\n",
       "      <th>Kraftstoff</th>\n",
       "      <th>Schadstoffklasse</th>\n",
       "      <th>...</th>\n",
       "      <th>Karosserieform</th>\n",
       "      <th>Anzahl Tueren</th>\n",
       "      <th>Sitzplaetze</th>\n",
       "      <th>Kraftstoffverbrauch (komb)</th>\n",
       "      <th>Kraftstoffverbrauch (innerorts)</th>\n",
       "      <th>Kraftstoffverbrauch (ausserorts)</th>\n",
       "      <th>Gaenge</th>\n",
       "      <th>Zylinder</th>\n",
       "      <th>Leergewicht</th>\n",
       "      <th>Antriebsart</th>\n",
       "    </tr>\n",
       "  </thead>\n",
       "  <tbody>\n",
       "    <tr>\n",
       "      <th>0</th>\n",
       "      <td>16900</td>\n",
       "      <td>73500</td>\n",
       "      <td>157</td>\n",
       "      <td>213</td>\n",
       "      <td>Gebraucht</td>\n",
       "      <td>3.0</td>\n",
       "      <td>Schaltgetriebe</td>\n",
       "      <td>1995.0</td>\n",
       "      <td>Diesel (Rußpartikelfilter)</td>\n",
       "      <td>Euro 5</td>\n",
       "      <td>...</td>\n",
       "      <td>Coupé</td>\n",
       "      <td>2.0</td>\n",
       "      <td>4.0</td>\n",
       "      <td>5.4</td>\n",
       "      <td>6.7</td>\n",
       "      <td>4.6</td>\n",
       "      <td>NaN</td>\n",
       "      <td>NaN</td>\n",
       "      <td>NaN</td>\n",
       "      <td>NaN</td>\n",
       "    </tr>\n",
       "    <tr>\n",
       "      <th>1</th>\n",
       "      <td>16599</td>\n",
       "      <td>125854</td>\n",
       "      <td>157</td>\n",
       "      <td>213</td>\n",
       "      <td>Gebraucht</td>\n",
       "      <td>3.0</td>\n",
       "      <td>Automatik</td>\n",
       "      <td>1995.0</td>\n",
       "      <td>Diesel</td>\n",
       "      <td>Euro 5</td>\n",
       "      <td>...</td>\n",
       "      <td>Kombi</td>\n",
       "      <td>4.0</td>\n",
       "      <td>NaN</td>\n",
       "      <td>NaN</td>\n",
       "      <td>NaN</td>\n",
       "      <td>NaN</td>\n",
       "      <td>NaN</td>\n",
       "      <td>NaN</td>\n",
       "      <td>NaN</td>\n",
       "      <td>NaN</td>\n",
       "    </tr>\n",
       "    <tr>\n",
       "      <th>2</th>\n",
       "      <td>16000</td>\n",
       "      <td>195000</td>\n",
       "      <td>265</td>\n",
       "      <td>360</td>\n",
       "      <td>Gebraucht</td>\n",
       "      <td>NaN</td>\n",
       "      <td>Automatik</td>\n",
       "      <td>2979.0</td>\n",
       "      <td>Benzin</td>\n",
       "      <td>Euro 4</td>\n",
       "      <td>...</td>\n",
       "      <td>Coupé</td>\n",
       "      <td>2.0</td>\n",
       "      <td>4.0</td>\n",
       "      <td>9.7</td>\n",
       "      <td>14.0</td>\n",
       "      <td>7.2</td>\n",
       "      <td>6.0</td>\n",
       "      <td>6.0</td>\n",
       "      <td>1560.0</td>\n",
       "      <td>NaN</td>\n",
       "    </tr>\n",
       "    <tr>\n",
       "      <th>3</th>\n",
       "      <td>15990</td>\n",
       "      <td>160000</td>\n",
       "      <td>157</td>\n",
       "      <td>213</td>\n",
       "      <td>Gebraucht</td>\n",
       "      <td>2.0</td>\n",
       "      <td>Automatik</td>\n",
       "      <td>1995.0</td>\n",
       "      <td>Diesel (Rußpartikelfilter)</td>\n",
       "      <td>Euro 5</td>\n",
       "      <td>...</td>\n",
       "      <td>Coupé</td>\n",
       "      <td>2.0</td>\n",
       "      <td>4.0</td>\n",
       "      <td>NaN</td>\n",
       "      <td>NaN</td>\n",
       "      <td>NaN</td>\n",
       "      <td>NaN</td>\n",
       "      <td>NaN</td>\n",
       "      <td>NaN</td>\n",
       "      <td>Heck</td>\n",
       "    </tr>\n",
       "    <tr>\n",
       "      <th>4</th>\n",
       "      <td>14999</td>\n",
       "      <td>248000</td>\n",
       "      <td>206</td>\n",
       "      <td>280</td>\n",
       "      <td>Gebraucht</td>\n",
       "      <td>2.0</td>\n",
       "      <td>Schaltgetriebe</td>\n",
       "      <td>3300.0</td>\n",
       "      <td>Benzin</td>\n",
       "      <td>Euro 3</td>\n",
       "      <td>...</td>\n",
       "      <td>Limousine</td>\n",
       "      <td>4.0</td>\n",
       "      <td>5.0</td>\n",
       "      <td>10.2</td>\n",
       "      <td>14.7</td>\n",
       "      <td>7.5</td>\n",
       "      <td>NaN</td>\n",
       "      <td>NaN</td>\n",
       "      <td>NaN</td>\n",
       "      <td>NaN</td>\n",
       "    </tr>\n",
       "  </tbody>\n",
       "</table>\n",
       "<p>5 rows × 24 columns</p>\n",
       "</div>"
      ],
      "text/plain": [
       "   Preis      km   kw   ps    Zustand  Fahrzeughalter     Getriebeart  \\\n",
       "0  16900   73500  157  213  Gebraucht             3.0  Schaltgetriebe   \n",
       "1  16599  125854  157  213  Gebraucht             3.0       Automatik   \n",
       "2  16000  195000  265  360  Gebraucht             NaN       Automatik   \n",
       "3  15990  160000  157  213  Gebraucht             2.0       Automatik   \n",
       "4  14999  248000  206  280  Gebraucht             2.0  Schaltgetriebe   \n",
       "\n",
       "   Hubraum                  Kraftstoff Schadstoffklasse  ... Karosserieform  \\\n",
       "0   1995.0  Diesel (Rußpartikelfilter)           Euro 5  ...          Coupé   \n",
       "1   1995.0                      Diesel           Euro 5  ...          Kombi   \n",
       "2   2979.0                      Benzin           Euro 4  ...          Coupé   \n",
       "3   1995.0  Diesel (Rußpartikelfilter)           Euro 5  ...          Coupé   \n",
       "4   3300.0                      Benzin           Euro 3  ...      Limousine   \n",
       "\n",
       "  Anzahl Tueren Sitzplaetze Kraftstoffverbrauch (komb)  \\\n",
       "0           2.0         4.0                        5.4   \n",
       "1           4.0         NaN                        NaN   \n",
       "2           2.0         4.0                        9.7   \n",
       "3           2.0         4.0                        NaN   \n",
       "4           4.0         5.0                       10.2   \n",
       "\n",
       "  Kraftstoffverbrauch (innerorts)  Kraftstoffverbrauch (ausserorts)  Gaenge  \\\n",
       "0                             6.7                               4.6     NaN   \n",
       "1                             NaN                               NaN     NaN   \n",
       "2                            14.0                               7.2     6.0   \n",
       "3                             NaN                               NaN     NaN   \n",
       "4                            14.7                               7.5     NaN   \n",
       "\n",
       "   Zylinder  Leergewicht  Antriebsart  \n",
       "0       NaN          NaN          NaN  \n",
       "1       NaN          NaN          NaN  \n",
       "2       6.0       1560.0          NaN  \n",
       "3       NaN          NaN         Heck  \n",
       "4       NaN          NaN          NaN  \n",
       "\n",
       "[5 rows x 24 columns]"
      ]
     },
     "execution_count": 8,
     "metadata": {},
     "output_type": "execute_result"
    }
   ],
   "source": [
    "\n",
    "import numpy as np\n",
    "import pandas as pd\n",
    "\n",
    "df = pd.read_csv(\"data/output/autoscout-singlecars.csv.gz\",compression=\"gzip\")\n",
    "#df = df[[\"Modell\",\"Marke\",\"Garantie\",\"country\",\"Zustand\", \"Zylinder\",\"Kraftstoff\",\"Erstzulassung\", \"Außenfarbe\",\"Innenausstattung\",\"Karosserieform\",\"Anzahl Türen\",\"Sitzplätze\",\"Getriebeart\",\"Gänge\",'Hubraum', 'Kraftstoff', 'Schadstoffklasse', 'haendler', 'privat',\"price\"]]\n",
    "#df = df[['url', 'country', 'date', 'Zustand', 'Garantie', 'Marke',\n",
    "#       'Modell', 'Angebotsnummer', 'Außenfarbe', 'Lackierung',\n",
    "#       'Farbe laut Hersteller', 'Innenausstattung', 'Karosserieform',\n",
    "#       'Anzahl Türen', 'Sitzplätze', 'Schlüsselnummer', 'Getriebeart', 'Gänge',\n",
    "#       'Hubraum', 'Kraftstoff', 'Schadstoffklasse', 'haendler', 'privat',\n",
    "#       'ort', 'price', 'ausstattung_liste', 'Erstzulassung', 'Zylinder',\n",
    "#       'Leergewicht']]\n",
    "\n",
    "# for now drop description\n",
    "df = df.drop([\"created\",\"EZ erstzulassung\",\"Beschreibung\",\"Innenausstattung\",\"URL\",\"Ausstattung\",\"Schluesselnummer\",],axis=1)\n",
    "\n",
    "df.head()"
   ]
  },
  {
   "cell_type": "code",
   "execution_count": 4,
   "metadata": {
    "ExecuteTime": {
     "end_time": "2020-11-02T12:15:47.391907Z",
     "start_time": "2020-11-02T12:15:47.389693Z"
    }
   },
   "outputs": [
    {
     "data": {
      "text/plain": [
       "Index(['Preis', 'km', 'kw', 'ps', 'Zustand', 'Fahrzeughalter', 'Getriebeart',\n",
       "       'Hubraum', 'Kraftstoff', 'Schadstoffklasse', 'Feinstaubplakette',\n",
       "       'Marke', 'Modell', 'Aussenfarbe', 'Karosserieform', 'Anzahl Tueren',\n",
       "       'Sitzplaetze', 'Kraftstoffverbrauch (komb)',\n",
       "       'Kraftstoffverbrauch (innerorts)', 'Kraftstoffverbrauch (ausserorts)',\n",
       "       'Gaenge', 'Zylinder', 'Leergewicht', 'Antriebsart'],\n",
       "      dtype='object')"
      ]
     },
     "execution_count": 4,
     "metadata": {},
     "output_type": "execute_result"
    }
   ],
   "source": [
    "df.columns"
   ]
  },
  {
   "cell_type": "code",
   "execution_count": 25,
   "metadata": {
    "ExecuteTime": {
     "end_time": "2020-11-02T12:06:28.423327Z",
     "start_time": "2020-11-02T12:06:28.337461Z"
    }
   },
   "outputs": [],
   "source": [
    "# fill na with 0\n",
    "df = df.fillna(0)"
   ]
  },
  {
   "cell_type": "code",
   "execution_count": 26,
   "metadata": {
    "ExecuteTime": {
     "end_time": "2020-11-02T08:42:37.161090Z",
     "start_time": "2020-11-02T08:42:37.031791Z"
    }
   },
   "outputs": [],
   "source": [
    "#meanDF = df.groupby([\"Marke\",\"Modell\"]).agg(lambda x:x.value_counts().index[0])\n",
    "df = df.set_index([\"Marke\",\"Modell\"])"
   ]
  },
  {
   "cell_type": "code",
   "execution_count": 16,
   "metadata": {
    "ExecuteTime": {
     "end_time": "2020-11-02T08:38:24.148642Z",
     "start_time": "2020-11-02T08:38:24.093318Z"
    }
   },
   "outputs": [
    {
     "data": {
      "text/plain": [
       "['modelbrandcombinations.pickle']"
      ]
     },
     "execution_count": 16,
     "metadata": {},
     "output_type": "execute_result"
    }
   ],
   "source": [
    "#import joblib\n",
    "#joblib.dump(tmp,\"modelbrandcombinations.pickle\")"
   ]
  },
  {
   "cell_type": "code",
   "execution_count": 66,
   "metadata": {
    "ExecuteTime": {
     "end_time": "2020-11-02T09:04:32.373784Z",
     "start_time": "2020-11-02T09:04:18.464282Z"
    }
   },
   "outputs": [],
   "source": [
    "meanDF = df.groupby(['Marke','Modell']).agg(lambda x:x.value_counts().index[0])"
   ]
  },
  {
   "cell_type": "code",
   "execution_count": 69,
   "metadata": {
    "ExecuteTime": {
     "end_time": "2020-11-02T09:05:08.911593Z",
     "start_time": "2020-11-02T09:05:08.809178Z"
    }
   },
   "outputs": [
    {
     "data": {
      "text/html": [
       "<div>\n",
       "<style scoped>\n",
       "    .dataframe tbody tr th:only-of-type {\n",
       "        vertical-align: middle;\n",
       "    }\n",
       "\n",
       "    .dataframe tbody tr th {\n",
       "        vertical-align: top;\n",
       "    }\n",
       "\n",
       "    .dataframe thead th {\n",
       "        text-align: right;\n",
       "    }\n",
       "</style>\n",
       "<table border=\"1\" class=\"dataframe\">\n",
       "  <thead>\n",
       "    <tr style=\"text-align: right;\">\n",
       "      <th></th>\n",
       "      <th></th>\n",
       "      <th>URL</th>\n",
       "      <th>created</th>\n",
       "      <th>Preis</th>\n",
       "      <th>km</th>\n",
       "      <th>EZ erstzulassung</th>\n",
       "      <th>kw</th>\n",
       "      <th>ps</th>\n",
       "      <th>Ausstattung</th>\n",
       "      <th>Zustand</th>\n",
       "      <th>Fahrzeughalter</th>\n",
       "      <th>...</th>\n",
       "      <th>Sitzplaetze</th>\n",
       "      <th>Schluesselnummer</th>\n",
       "      <th>Kraftstoffverbrauch (komb)</th>\n",
       "      <th>Kraftstoffverbrauch (innerorts)</th>\n",
       "      <th>Kraftstoffverbrauch (ausserorts)</th>\n",
       "      <th>Beschreibung</th>\n",
       "      <th>Gaenge</th>\n",
       "      <th>Zylinder</th>\n",
       "      <th>Leergewicht</th>\n",
       "      <th>Antriebsart</th>\n",
       "    </tr>\n",
       "    <tr>\n",
       "      <th>Marke</th>\n",
       "      <th>Modell</th>\n",
       "      <th></th>\n",
       "      <th></th>\n",
       "      <th></th>\n",
       "      <th></th>\n",
       "      <th></th>\n",
       "      <th></th>\n",
       "      <th></th>\n",
       "      <th></th>\n",
       "      <th></th>\n",
       "      <th></th>\n",
       "      <th></th>\n",
       "      <th></th>\n",
       "      <th></th>\n",
       "      <th></th>\n",
       "      <th></th>\n",
       "      <th></th>\n",
       "      <th></th>\n",
       "      <th></th>\n",
       "      <th></th>\n",
       "      <th></th>\n",
       "      <th></th>\n",
       "    </tr>\n",
       "  </thead>\n",
       "  <tbody>\n",
       "    <tr>\n",
       "      <th rowspan=\"5\" valign=\"top\">Abarth</th>\n",
       "      <th>124 Spider</th>\n",
       "      <td>https://www.autoscout24.de/angebote/abarth-124...</td>\n",
       "      <td>2020-10-31</td>\n",
       "      <td>24990</td>\n",
       "      <td>37950</td>\n",
       "      <td>2018-04-01T00:00:00</td>\n",
       "      <td>125</td>\n",
       "      <td>170</td>\n",
       "      <td>Einparkhilfe Sensoren hinten, Elektr. Fensterh...</td>\n",
       "      <td>Gebraucht</td>\n",
       "      <td>1.0</td>\n",
       "      <td>...</td>\n",
       "      <td>2.0</td>\n",
       "      <td>1727/AMF</td>\n",
       "      <td>6.4</td>\n",
       "      <td>8.5</td>\n",
       "      <td>5.1</td>\n",
       "      <td>Highlights: 1. Hand; Scheckheftgepflegt; Garan...</td>\n",
       "      <td>6.0</td>\n",
       "      <td>4.0</td>\n",
       "      <td>0.0</td>\n",
       "      <td>0</td>\n",
       "    </tr>\n",
       "    <tr>\n",
       "      <th>500</th>\n",
       "      <td>https://www.autoscout24.de/angebote/abarth-500...</td>\n",
       "      <td>2020-11-02</td>\n",
       "      <td>24900</td>\n",
       "      <td>1000</td>\n",
       "      <td>2016-01-01T00:00:00</td>\n",
       "      <td>99</td>\n",
       "      <td>135</td>\n",
       "      <td>0</td>\n",
       "      <td>Gebraucht</td>\n",
       "      <td>1.0</td>\n",
       "      <td>...</td>\n",
       "      <td>4.0</td>\n",
       "      <td>0</td>\n",
       "      <td>6.5</td>\n",
       "      <td>8.5</td>\n",
       "      <td>5.4</td>\n",
       "      <td>test_description</td>\n",
       "      <td>0.0</td>\n",
       "      <td>0.0</td>\n",
       "      <td>0.0</td>\n",
       "      <td>0</td>\n",
       "    </tr>\n",
       "    <tr>\n",
       "      <th>500C</th>\n",
       "      <td>https://www.autoscout24.de/angebote/abarth-500...</td>\n",
       "      <td>2020-11-02</td>\n",
       "      <td>11990</td>\n",
       "      <td>95900</td>\n",
       "      <td>2012-05-01T00:00:00</td>\n",
       "      <td>99</td>\n",
       "      <td>135</td>\n",
       "      <td>Berganfahrassistent, Einparkhilfe, Einparkhilf...</td>\n",
       "      <td>Gebraucht</td>\n",
       "      <td>2.0</td>\n",
       "      <td>...</td>\n",
       "      <td>4.0</td>\n",
       "      <td>0</td>\n",
       "      <td>6.5</td>\n",
       "      <td>8.5</td>\n",
       "      <td>5.4</td>\n",
       "      <td>Hallo liebe Abarthbegeisterte, ich biete meine...</td>\n",
       "      <td>0.0</td>\n",
       "      <td>0.0</td>\n",
       "      <td>0.0</td>\n",
       "      <td>0</td>\n",
       "    </tr>\n",
       "    <tr>\n",
       "      <th>595</th>\n",
       "      <td>https://www.autoscout24.de/angebote/abarth-595...</td>\n",
       "      <td>2020-10-31</td>\n",
       "      <td>16788</td>\n",
       "      <td>10</td>\n",
       "      <td>2020-09-01T00:00:00</td>\n",
       "      <td>107</td>\n",
       "      <td>145</td>\n",
       "      <td>Einparkhilfe Sensoren hinten, Elektr. Fensterh...</td>\n",
       "      <td>Tageszulassung</td>\n",
       "      <td>1.0</td>\n",
       "      <td>...</td>\n",
       "      <td>4.0</td>\n",
       "      <td>1727/AJU</td>\n",
       "      <td>6.7</td>\n",
       "      <td>8.8</td>\n",
       "      <td>5.6</td>\n",
       "      <td>Wir bieten Ihnen: - kompetente, persönliche od...</td>\n",
       "      <td>5.0</td>\n",
       "      <td>4.0</td>\n",
       "      <td>0.0</td>\n",
       "      <td>0</td>\n",
       "    </tr>\n",
       "    <tr>\n",
       "      <th>595 Competizione</th>\n",
       "      <td>https://www.autoscout24.de/angebote/abarth-595...</td>\n",
       "      <td>2020-10-31</td>\n",
       "      <td>25990</td>\n",
       "      <td>5</td>\n",
       "      <td>2019-12-01T00:00:00</td>\n",
       "      <td>132</td>\n",
       "      <td>179</td>\n",
       "      <td>Berganfahrassistent, Einparkhilfe Sensoren hin...</td>\n",
       "      <td>Gebraucht</td>\n",
       "      <td>1.0</td>\n",
       "      <td>...</td>\n",
       "      <td>4.0</td>\n",
       "      <td>0</td>\n",
       "      <td>6.8</td>\n",
       "      <td>8.7</td>\n",
       "      <td>5.7</td>\n",
       "      <td>Herzlich Willkommen in Ihrem Neuwagen Autoland...</td>\n",
       "      <td>5.0</td>\n",
       "      <td>4.0</td>\n",
       "      <td>0.0</td>\n",
       "      <td>0</td>\n",
       "    </tr>\n",
       "  </tbody>\n",
       "</table>\n",
       "<p>5 rows × 29 columns</p>\n",
       "</div>"
      ],
      "text/plain": [
       "                                                                       URL  \\\n",
       "Marke  Modell                                                                \n",
       "Abarth 124 Spider        https://www.autoscout24.de/angebote/abarth-124...   \n",
       "       500               https://www.autoscout24.de/angebote/abarth-500...   \n",
       "       500C              https://www.autoscout24.de/angebote/abarth-500...   \n",
       "       595               https://www.autoscout24.de/angebote/abarth-595...   \n",
       "       595 Competizione  https://www.autoscout24.de/angebote/abarth-595...   \n",
       "\n",
       "                            created  Preis     km     EZ erstzulassung   kw  \\\n",
       "Marke  Modell                                                                 \n",
       "Abarth 124 Spider        2020-10-31  24990  37950  2018-04-01T00:00:00  125   \n",
       "       500               2020-11-02  24900   1000  2016-01-01T00:00:00   99   \n",
       "       500C              2020-11-02  11990  95900  2012-05-01T00:00:00   99   \n",
       "       595               2020-10-31  16788     10  2020-09-01T00:00:00  107   \n",
       "       595 Competizione  2020-10-31  25990      5  2019-12-01T00:00:00  132   \n",
       "\n",
       "                          ps  \\\n",
       "Marke  Modell                  \n",
       "Abarth 124 Spider        170   \n",
       "       500               135   \n",
       "       500C              135   \n",
       "       595               145   \n",
       "       595 Competizione  179   \n",
       "\n",
       "                                                               Ausstattung  \\\n",
       "Marke  Modell                                                                \n",
       "Abarth 124 Spider        Einparkhilfe Sensoren hinten, Elektr. Fensterh...   \n",
       "       500                                                               0   \n",
       "       500C              Berganfahrassistent, Einparkhilfe, Einparkhilf...   \n",
       "       595               Einparkhilfe Sensoren hinten, Elektr. Fensterh...   \n",
       "       595 Competizione  Berganfahrassistent, Einparkhilfe Sensoren hin...   \n",
       "\n",
       "                                Zustand  Fahrzeughalter  ... Sitzplaetze  \\\n",
       "Marke  Modell                                            ...               \n",
       "Abarth 124 Spider             Gebraucht             1.0  ...         2.0   \n",
       "       500                    Gebraucht             1.0  ...         4.0   \n",
       "       500C                   Gebraucht             2.0  ...         4.0   \n",
       "       595               Tageszulassung             1.0  ...         4.0   \n",
       "       595 Competizione       Gebraucht             1.0  ...         4.0   \n",
       "\n",
       "                         Schluesselnummer Kraftstoffverbrauch (komb)  \\\n",
       "Marke  Modell                                                          \n",
       "Abarth 124 Spider                1727/AMF                        6.4   \n",
       "       500                              0                        6.5   \n",
       "       500C                             0                        6.5   \n",
       "       595                       1727/AJU                        6.7   \n",
       "       595 Competizione                 0                        6.8   \n",
       "\n",
       "                        Kraftstoffverbrauch (innerorts)  \\\n",
       "Marke  Modell                                             \n",
       "Abarth 124 Spider                                   8.5   \n",
       "       500                                          8.5   \n",
       "       500C                                         8.5   \n",
       "       595                                          8.8   \n",
       "       595 Competizione                             8.7   \n",
       "\n",
       "                        Kraftstoffverbrauch (ausserorts)  \\\n",
       "Marke  Modell                                              \n",
       "Abarth 124 Spider                                    5.1   \n",
       "       500                                           5.4   \n",
       "       500C                                          5.4   \n",
       "       595                                           5.6   \n",
       "       595 Competizione                              5.7   \n",
       "\n",
       "                                                              Beschreibung  \\\n",
       "Marke  Modell                                                                \n",
       "Abarth 124 Spider        Highlights: 1. Hand; Scheckheftgepflegt; Garan...   \n",
       "       500                                                test_description   \n",
       "       500C              Hallo liebe Abarthbegeisterte, ich biete meine...   \n",
       "       595               Wir bieten Ihnen: - kompetente, persönliche od...   \n",
       "       595 Competizione  Herzlich Willkommen in Ihrem Neuwagen Autoland...   \n",
       "\n",
       "                        Gaenge Zylinder  Leergewicht  Antriebsart  \n",
       "Marke  Modell                                                      \n",
       "Abarth 124 Spider          6.0      4.0          0.0            0  \n",
       "       500                 0.0      0.0          0.0            0  \n",
       "       500C                0.0      0.0          0.0            0  \n",
       "       595                 5.0      4.0          0.0            0  \n",
       "       595 Competizione    5.0      4.0          0.0            0  \n",
       "\n",
       "[5 rows x 29 columns]"
      ]
     },
     "execution_count": 69,
     "metadata": {},
     "output_type": "execute_result"
    }
   ],
   "source": [
    "meanDF.to_csv(\"data/output/meanvalues.csv\")\n",
    "meanDF.head()"
   ]
  },
  {
   "cell_type": "markdown",
   "metadata": {},
   "source": [
    "# now write mean values to elastic"
   ]
  },
  {
   "cell_type": "code",
   "execution_count": 91,
   "metadata": {
    "ExecuteTime": {
     "end_time": "2020-11-02T09:16:44.310343Z",
     "start_time": "2020-11-02T09:16:43.760508Z"
    }
   },
   "outputs": [
    {
     "name": "stdout",
     "output_type": "stream",
     "text": [
      "response: {'acknowledged': True, 'shards_acknowledged': True, 'index': 'autoscout-meanvalues'}\n"
     ]
    }
   ],
   "source": [
    "from elasticsearch import Elasticsearch\n",
    "es = Elasticsearch([\"192.168.0.242:9200\"])\n",
    "\n",
    "mapping = {\n",
    "  \"mappings\": {\n",
    "      \"properties\": {\n",
    "        \"created\" : {\"type\": \"date\"},\n",
    "        \"Antriebsart\": {\"type\": \"keyword\" },\n",
    "        \"URL\": {\"type\": \"keyword\" },\n",
    "        \"Preis\": {\"type\": \"integer\" },\n",
    "        \"km\": {\"type\": \"integer\" },\n",
    "        \"EZ erstzulassung\": {\"type\": \"date\" },\n",
    "        \"kw\": {\"type\": \"short\" },\n",
    "        \"ps\": {\"type\": \"short\" },\n",
    "        \"Ausstattung\": {\"type\": \"keyword\" },\n",
    "        \"Zustand\": {\"type\": \"keyword\" },\n",
    "        \"Fahrzeughalter\": {\"type\": \"byte\" },\n",
    "        \"Getriebeart\": {\"type\": \"keyword\" },\n",
    "        \"Gaenge\": {\"type\": \"byte\" },\n",
    "        \"Hubraum\": {\"type\": \"short\" },\n",
    "        \"Zylinder\": {\"type\": \"byte\" },\n",
    "        \"Leergewicht\": {\"type\": \"short\" },\n",
    "        \"Kraftstoff\": {\"type\": \"keyword\" },\n",
    "        \"Schadstoffklasse\": {\"type\": \"keyword\" },\n",
    "        \"Feinstaubplakette\": {\"type\": \"keyword\" },\n",
    "        \"Marke\": {\"type\": \"keyword\" },\n",
    "        \"Modell\": {\"type\": \"keyword\" },\n",
    "        \"Aussenfarbe\": {\"type\": \"keyword\" },\n",
    "        \"Innenausstattung\": {\"type\": \"keyword\" },\n",
    "        \"Karosserieform\": {\"type\": \"keyword\" },\n",
    "        \"Anzahl Tueren\": {\"type\": \"byte\" },\n",
    "        \"Sitzplaetze\": {\"type\": \"byte\" },\n",
    "        \"Schluesselnummer\": {\"type\": \"keyword\" },\n",
    "        \"Kraftstoffverbrauch (komb)\": {\"type\": \"half_float\" },\n",
    "        \"Kraftstoffverbrauch (innerorts)\": {\"type\": \"half_float\" },\n",
    "        \"Kraftstoffverbrauch (ausserorts)\": {\"type\": \"half_float\" },\n",
    "        \"CO2-Emissionen\": {\"type\": \"short\" },\n",
    "        \"Beschreibung\": {\"type\": \"text\" },\n",
    "          }}}\n",
    "response = es.indices.create(\n",
    "    index=\"autoscout-meanvalues\",\n",
    "    body=mapping\n",
    "    )\n",
    "\n",
    "# print out the response:\n",
    "print ('response:', response)\n"
   ]
  },
  {
   "cell_type": "code",
   "execution_count": 93,
   "metadata": {
    "ExecuteTime": {
     "end_time": "2020-11-02T09:17:31.890418Z",
     "start_time": "2020-11-02T09:17:05.693304Z"
    }
   },
   "outputs": [
    {
     "name": "stderr",
     "output_type": "stream",
     "text": [
      "  0%|          | 0/1373 [00:00<?, ?it/s]<ipython-input-93-1d2e689d3128>:5: SettingWithCopyWarning: \n",
      "A value is trying to be set on a copy of a slice from a DataFrame\n",
      "\n",
      "See the caveats in the documentation: https://pandas.pydata.org/pandas-docs/stable/user_guide/indexing.html#returning-a-view-versus-a-copy\n",
      "  data[\"Modell\"] = model\n",
      "<ipython-input-93-1d2e689d3128>:6: SettingWithCopyWarning: \n",
      "A value is trying to be set on a copy of a slice from a DataFrame\n",
      "\n",
      "See the caveats in the documentation: https://pandas.pydata.org/pandas-docs/stable/user_guide/indexing.html#returning-a-view-versus-a-copy\n",
      "  data[\"Marke\"] = brand\n",
      "100%|██████████| 1373/1373 [00:26<00:00, 52.42it/s]\n"
     ]
    }
   ],
   "source": [
    "\n",
    "from tqdm import tqdm\n",
    "\n",
    "for brand,model in tqdm(meanDF.index):\n",
    "    data = meanDF.loc[(brand,model)]\n",
    "    data[\"Modell\"] = model\n",
    "    data[\"Marke\"] = brand\n",
    "    idy = str(brand)+\"_\"+str(model)\n",
    "    data = data.to_json()\n",
    "    res = es.index(index=\"autoscout-meanvalues\", id=idy, body=data)\n"
   ]
  },
  {
   "cell_type": "markdown",
   "metadata": {},
   "source": [
    "# now the ml stuff"
   ]
  },
  {
   "cell_type": "code",
   "execution_count": 9,
   "metadata": {
    "ExecuteTime": {
     "end_time": "2020-11-02T12:16:30.758142Z",
     "start_time": "2020-11-02T12:16:30.722978Z"
    }
   },
   "outputs": [
    {
     "name": "stdout",
     "output_type": "stream",
     "text": [
      "Index(['km', 'kw', 'ps', 'Zustand', 'Fahrzeughalter', 'Getriebeart', 'Hubraum',\n",
      "       'Kraftstoff', 'Schadstoffklasse', 'Feinstaubplakette', 'Marke',\n",
      "       'Modell', 'Aussenfarbe', 'Karosserieform', 'Anzahl Tueren',\n",
      "       'Sitzplaetze', 'Kraftstoffverbrauch (komb)',\n",
      "       'Kraftstoffverbrauch (innerorts)', 'Kraftstoffverbrauch (ausserorts)',\n",
      "       'Gaenge', 'Zylinder', 'Leergewicht', 'Antriebsart'],\n",
      "      dtype='object')\n"
     ]
    },
    {
     "ename": "NameError",
     "evalue": "name 'meanDF' is not defined",
     "output_type": "error",
     "traceback": [
      "\u001b[0;31m---------------------------------------------------------------------------\u001b[0m",
      "\u001b[0;31mNameError\u001b[0m                                 Traceback (most recent call last)",
      "\u001b[0;32m<ipython-input-9-48542d01d808>\u001b[0m in \u001b[0;36m<module>\u001b[0;34m\u001b[0m\n\u001b[1;32m     10\u001b[0m \u001b[0mX\u001b[0m \u001b[0;34m=\u001b[0m \u001b[0mdf\u001b[0m\u001b[0;34m.\u001b[0m\u001b[0mcopy\u001b[0m\u001b[0;34m(\u001b[0m\u001b[0;34m)\u001b[0m\u001b[0;34m\u001b[0m\u001b[0;34m\u001b[0m\u001b[0m\n\u001b[1;32m     11\u001b[0m \u001b[0mprint\u001b[0m\u001b[0;34m(\u001b[0m\u001b[0mX\u001b[0m\u001b[0;34m.\u001b[0m\u001b[0mcolumns\u001b[0m\u001b[0;34m)\u001b[0m\u001b[0;34m\u001b[0m\u001b[0;34m\u001b[0m\u001b[0m\n\u001b[0;32m---> 12\u001b[0;31m \u001b[0;32mdel\u001b[0m \u001b[0mdf\u001b[0m\u001b[0;34m,\u001b[0m\u001b[0mmeanDF\u001b[0m\u001b[0;34m\u001b[0m\u001b[0;34m\u001b[0m\u001b[0m\n\u001b[0m",
      "\u001b[0;31mNameError\u001b[0m: name 'meanDF' is not defined"
     ]
    }
   ],
   "source": [
    "#from sklearn.preprocessing import OneHotEncoder\n",
    "#from sklearn.preprocessing import LabelEncoder\n",
    "\n",
    "from sklearn.preprocessing import MinMaxScaler\n",
    "#from sklearn.preprocessing import OrdinalEncoder\n",
    "from sklearn.preprocessing import OneHotEncoder\n",
    "# split in train test\n",
    "Y = df[\"Preis\"]\n",
    "df.drop(columns=[\"Preis\"],inplace=True)\n",
    "X = df.copy()\n",
    "print(X.columns)\n",
    "del df,meanDF\n"
   ]
  },
  {
   "cell_type": "code",
   "execution_count": 10,
   "metadata": {
    "ExecuteTime": {
     "end_time": "2020-11-02T12:16:36.010433Z",
     "start_time": "2020-11-02T12:16:33.422102Z"
    }
   },
   "outputs": [],
   "source": [
    "#X = X.fillna(None)\n",
    "numerical = X.select_dtypes(include=[\"int64\",\"float64\"])\n",
    "categorical = X.select_dtypes(include=[\"object\"])\n",
    "numerical = numerical.fillna(0)\n",
    "categorical = categorical.fillna(\"nan\")\n",
    "\n",
    "ohenc = OneHotEncoder(handle_unknown='ignore')\n",
    "#imputer = OrdinalEncoder()\n",
    "cat_scaled = ohenc.fit_transform(categorical).toarray()\n",
    "\n",
    "mmscaler = MinMaxScaler()\n",
    "yscaler = MinMaxScaler()\n",
    "num_scaled = mmscaler.fit_transform(numerical)\n",
    "Y = np.ravel(yscaler.fit_transform(Y.values.reshape(-1, 1)))\n",
    "\n",
    "X = np.concatenate([cat_scaled,num_scaled],axis=1)\n",
    "\n",
    "# train test split\n",
    "from sklearn.model_selection import train_test_split\n",
    "x_train, x_test, y_train, y_test = train_test_split(X, Y, test_size=0.33, shuffle=True,random_state=42)"
   ]
  },
  {
   "cell_type": "code",
   "execution_count": 11,
   "metadata": {
    "ExecuteTime": {
     "end_time": "2020-11-02T12:16:46.963158Z",
     "start_time": "2020-11-02T12:16:46.960308Z"
    }
   },
   "outputs": [
    {
     "data": {
      "text/plain": [
       "(134251, 1832)"
      ]
     },
     "execution_count": 11,
     "metadata": {},
     "output_type": "execute_result"
    }
   ],
   "source": [
    "x_train.shape"
   ]
  },
  {
   "cell_type": "code",
   "execution_count": null,
   "metadata": {
    "ExecuteTime": {
     "start_time": "2020-11-02T12:16:53.304Z"
    }
   },
   "outputs": [],
   "source": [
    "from sklearn.ensemble import RandomForestRegressor\n",
    "from sklearn.linear_model import HuberRegressor\n",
    "from sklearn.model_selection import cross_val_score\n",
    "import xgboost as xgb\n",
    "\n",
    "rf = xgb.XGBRegressor(nthread=-1)\n",
    "#rf = RandomForestRegressor(verbose=True,n_jobs=-1)\n",
    "#rf = HuberRegressor()\n",
    "rf.fit(x_train,y_train)\n",
    "scr = cross_val_score(rf, x_test,y_test,n_jobs=-1)\n",
    "print(scr.mean(),scr)"
   ]
  },
  {
   "cell_type": "code",
   "execution_count": 19,
   "metadata": {
    "ExecuteTime": {
     "end_time": "2020-11-02T11:00:53.445452Z",
     "start_time": "2020-11-02T11:00:53.441535Z"
    }
   },
   "outputs": [
    {
     "data": {
      "text/plain": [
       "{'colsample_bytree': 0.6,\n",
       " 'gamma': 0.3,\n",
       " 'max_depth': 4,\n",
       " 'min_child_weight': 4,\n",
       " 'subsample': 1.0}"
      ]
     },
     "execution_count": 19,
     "metadata": {},
     "output_type": "execute_result"
    }
   ],
   "source": [
    "grid.best_params_"
   ]
  },
  {
   "cell_type": "code",
   "execution_count": 20,
   "metadata": {
    "ExecuteTime": {
     "end_time": "2020-11-02T11:01:31.116681Z",
     "start_time": "2020-11-02T11:01:27.959529Z"
    }
   },
   "outputs": [
    {
     "name": "stdout",
     "output_type": "stream",
     "text": [
      "-0.00010787739986546363 [-3.05738871e-04 -7.18098770e-06 -6.19224045e-08 -1.97987354e-04\n",
      " -2.84178646e-05]\n"
     ]
    }
   ],
   "source": [
    "scr = cross_val_score(grid.best_estimator_, x_test,y_test,n_jobs=-1)\n",
    "print(scr.mean(),scr)"
   ]
  }
 ],
 "metadata": {
  "kernelspec": {
   "display_name": "Python [conda env:autoscoutd]",
   "language": "python",
   "name": "conda-env-autoscoutd-py"
  },
  "language_info": {
   "codemirror_mode": {
    "name": "ipython",
    "version": 3
   },
   "file_extension": ".py",
   "mimetype": "text/x-python",
   "name": "python",
   "nbconvert_exporter": "python",
   "pygments_lexer": "ipython3",
   "version": "3.8.5"
  },
  "toc": {
   "base_numbering": 1,
   "nav_menu": {},
   "number_sections": true,
   "sideBar": true,
   "skip_h1_title": false,
   "title_cell": "Table of Contents",
   "title_sidebar": "Contents",
   "toc_cell": false,
   "toc_position": {},
   "toc_section_display": true,
   "toc_window_display": false
  }
 },
 "nbformat": 4,
 "nbformat_minor": 4
}
